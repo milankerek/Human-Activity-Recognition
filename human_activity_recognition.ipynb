{
 "cells": [
  {
   "cell_type": "markdown",
   "metadata": {},
   "source": [
    "# Human Activiry Recognition\n",
    "\n",
    "## Project description\n",
    "\n",
    "The goal of human activity recognition (HAR) is to take an advantage of accelerometer and gyroscope sensors data e.g. from your smartphone and classify these data to predict specific type of movement sych as walking, running, sitting etc.\n",
    "\n",
    "Accelerometers and gyroscopes are device capable of measuring mass acceleration and angular rotation. Depending on  type and quality of the sensor, accelerometer data can be very noisy and biased, which can introduce additional errors in our model.\n",
    "\n",
    "In general, HAR is challenging tasks, due to the large number of data that accelerometers generates (easily up to 200Hz) every second, noisy data as well as the fact that there is no clear way to relate accelerometer data to specific movements.\n",
    "\n",
    "Since, the original data source created by **[UCI](https://archive.ics.uci.edu/ml/datasets/human+activity+recognition+using+smartphones)** is not functional anymore, for this project we will use the copy of dataset downloaded from Kaggle data repository **[KAGGLE DATA SET](https://www.kaggle.com/uciml/human-activity-recognition-with-smartphones)**"
   ]
  },
  {
   "cell_type": "markdown",
   "metadata": {},
   "source": [
    "## Setup the environment\n",
    "\n",
    "First, let's import necessary modules and setup working environment. We also include function for saving figures. "
   ]
  },
  {
   "cell_type": "code",
   "execution_count": 32,
   "metadata": {},
   "outputs": [],
   "source": [
    "# import dependencies\n",
    "import sys\n",
    "assert sys.version_info >= (3,5)\n",
    "import os\n",
    "import urllib\n",
    "import time, datetime\n",
    "from collections import Counter\n",
    "\n",
    "# Data manipulation\n",
    "import numpy as np\n",
    "import pandas as pd\n",
    "import math, random\n",
    "\n",
    "# Data visualization\n",
    "import missingno\n",
    "import seaborn as sns\n",
    "sns.set(style=\"darkgrid\")\n",
    "import matplotlib as mpl\n",
    "%matplotlib inline\n",
    "mpl.rc('axes', labelsize=14)\n",
    "mpl.rc('xtick', labelsize=12)\n",
    "mpl.rc('ytick', labelsize=12)\n",
    "import matplotlib.pyplot as plt\n",
    "# plt.style.use(\"seaborn-whitegrid\")\n",
    "\n",
    "# Machine learning\n",
    "import sklearn\n",
    "assert sklearn.__version__ >= \"0.20\" # check Scikit-learn version \n",
    "from sklearn import model_selection, preprocessing, metrics, linear_model, tree\n",
    "from sklearn.model_selection import train_test_split\n",
    "from sklearn.preprocessing import OneHotEncoder, LabelEncoder, label_binarize\n",
    "from sklearn.svm import LinearSVC\n",
    "from sklearn.ensemble import GradientBoostingClassifier\n",
    "from sklearn.neighbors import KNeighborsClassifier\n",
    "from sklearn.naive_bayes import GaussianNB\n",
    "from sklearn.linear_model import LinearRegression, LogisticRegression, SGDClassifier\n",
    "from sklearn.tree import DecisionTreeClassifier\n",
    "# Ignore warnings\n",
    "import warnings\n",
    "warnings.filterwarnings(\"ignore\")\n",
    "\n",
    "# Define constants and variables\n",
    "PROJECT_ROOT_DIR = '.'\n",
    "DATA_PATH = os.path.join(PROJECT_ROOT_DIR, \"datasets\")\n",
    "os.makedirs(DATA_PATH, exist_ok=True)\n",
    "IMAGES_PATH = os.path.join(PROJECT_ROOT_DIR, \"images\")\n",
    "os.makedirs(IMAGES_PATH, exist_ok=True)\n",
    "\n",
    "# Function to save figures\n",
    "def save_fig(fig_id, tight_layout=True, fig_extension=\"png\", resolution=300):\n",
    "    path = os.path.join(IMAGES_PATH, fig_id + \".\" + fig_extension)\n",
    "    print(\"Saveing figure \", fig_id)\n",
    "    if tight_layout:\n",
    "        plt.tight_layout()\n",
    "    plt.savefig(path, format=fig_extension, dpi=resolution)"
   ]
  },
  {
   "cell_type": "markdown",
   "metadata": {},
   "source": [
    "## Load the data\n",
    "\n",
    "The data were downloaded from the Kaggle data repository (see the link above in project description) and saved into project folder.\n",
    "\n",
    "**TBD**: add data description"
   ]
  },
  {
   "cell_type": "code",
   "execution_count": 2,
   "metadata": {},
   "outputs": [],
   "source": [
    "def load_data(data_path=DATA_PATH):\n",
    "    try:\n",
    "        train_set = pd.DataFrame(pd.read_csv(os.path.join(data_path, \"train.csv\")))\n",
    "        test_set  = pd.DataFrame(pd.read_csv(os.path.join(data_path, \"test.csv\")))\n",
    "        print(\"Data set {0} and {1} were loaded.\".format(\"train.csv\", \"test.csv\"))\n",
    "        return train_set, test_set\n",
    "#     except IOError:\n",
    "#             print(\"Data set not found.\")\n",
    "    except FileNotFoundError:\n",
    "        print(\"Data set was not found.\")"
   ]
  },
  {
   "cell_type": "code",
   "execution_count": 3,
   "metadata": {},
   "outputs": [
    {
     "name": "stdout",
     "output_type": "stream",
     "text": [
      "Data set train.csv and test.csv were loaded.\n"
     ]
    }
   ],
   "source": [
    "# load the data \n",
    "train, test = load_data()\n",
    "# create new data frames df_train and df_test, \n",
    "# so we don't touch the original data\n",
    "df_train = train\n",
    "df_test = test"
   ]
  },
  {
   "cell_type": "markdown",
   "metadata": {},
   "source": [
    "## Data description\n",
    "\n",
    "Data in the dataset were recorded using a buiil in smartphone accelerometer and gyroscope sensors, which captured 3-axial linear acceleration and 3-axial angular velocity with logging (sampling) frequency of 50Hz. Sensor data are already-preprocessed.\n",
    "\n",
    "More details about how the data were recored, labeled, and pre-processed please refer to the original **[UCI data repository](https://archive.ics.uci.edu/ml/datasets/human+activity+recognition+using+smartphones)**."
   ]
  },
  {
   "cell_type": "code",
   "execution_count": 4,
   "metadata": {},
   "outputs": [
    {
     "name": "stdout",
     "output_type": "stream",
     "text": [
      "Train data set size is (7352, 563)\n"
     ]
    }
   ],
   "source": [
    "# View the train data\n",
    "print(\"Train data set size is {}\".format(train.shape))"
   ]
  },
  {
   "cell_type": "markdown",
   "metadata": {},
   "source": [
    "As we can see there are 563 columns in dataset. After closer look, you will notice the features are dvided into few categories (acceleration, gravity) with some additional parameter (mean, std, ...).\n",
    "Let's group and count the main categories together. This will give us better data overview."
   ]
  },
  {
   "cell_type": "code",
   "execution_count": 5,
   "metadata": {},
   "outputs": [],
   "source": [
    "def group_data_columns(data_set):\n",
    "    \"\"\"\n",
    "    Function takes data set as an input argument and returns new data frame, \n",
    "    where the first column represents the attribute's name and seconds its count\n",
    "    value from original dataset.\n",
    "    \n",
    "    :: param_data_set = input data frame\n",
    "    \"\"\"\n",
    "    # Group and count main names of columns\n",
    "    grouped_columns = pd.DataFrame.from_dict(Counter([column.split('-')[0].split('(')[0] for column in data_set.columns]), orient='index')\n",
    "    grouped_columns.rename(columns={0:'count'}, inplace=True) # rename the columns 0 to count\n",
    "    grouped_columns.sort_values('count', ascending=False) # order the rows in descending fashion\n",
    "    return grouped_columns"
   ]
  },
  {
   "cell_type": "code",
   "execution_count": 6,
   "metadata": {},
   "outputs": [
    {
     "data": {
      "text/html": [
       "<div>\n",
       "<style scoped>\n",
       "    .dataframe tbody tr th:only-of-type {\n",
       "        vertical-align: middle;\n",
       "    }\n",
       "\n",
       "    .dataframe tbody tr th {\n",
       "        vertical-align: top;\n",
       "    }\n",
       "\n",
       "    .dataframe thead th {\n",
       "        text-align: right;\n",
       "    }\n",
       "</style>\n",
       "<table border=\"1\" class=\"dataframe\">\n",
       "  <thead>\n",
       "    <tr style=\"text-align: right;\">\n",
       "      <th></th>\n",
       "      <th>count</th>\n",
       "    </tr>\n",
       "  </thead>\n",
       "  <tbody>\n",
       "    <tr>\n",
       "      <th>tBodyAcc</th>\n",
       "      <td>40</td>\n",
       "    </tr>\n",
       "    <tr>\n",
       "      <th>tGravityAcc</th>\n",
       "      <td>40</td>\n",
       "    </tr>\n",
       "    <tr>\n",
       "      <th>tBodyAccJerk</th>\n",
       "      <td>40</td>\n",
       "    </tr>\n",
       "    <tr>\n",
       "      <th>tBodyGyro</th>\n",
       "      <td>40</td>\n",
       "    </tr>\n",
       "    <tr>\n",
       "      <th>tBodyGyroJerk</th>\n",
       "      <td>40</td>\n",
       "    </tr>\n",
       "    <tr>\n",
       "      <th>tBodyAccMag</th>\n",
       "      <td>13</td>\n",
       "    </tr>\n",
       "    <tr>\n",
       "      <th>tGravityAccMag</th>\n",
       "      <td>13</td>\n",
       "    </tr>\n",
       "    <tr>\n",
       "      <th>tBodyAccJerkMag</th>\n",
       "      <td>13</td>\n",
       "    </tr>\n",
       "    <tr>\n",
       "      <th>tBodyGyroMag</th>\n",
       "      <td>13</td>\n",
       "    </tr>\n",
       "    <tr>\n",
       "      <th>tBodyGyroJerkMag</th>\n",
       "      <td>13</td>\n",
       "    </tr>\n",
       "    <tr>\n",
       "      <th>fBodyAcc</th>\n",
       "      <td>79</td>\n",
       "    </tr>\n",
       "    <tr>\n",
       "      <th>fBodyAccJerk</th>\n",
       "      <td>79</td>\n",
       "    </tr>\n",
       "    <tr>\n",
       "      <th>fBodyGyro</th>\n",
       "      <td>79</td>\n",
       "    </tr>\n",
       "    <tr>\n",
       "      <th>fBodyAccMag</th>\n",
       "      <td>13</td>\n",
       "    </tr>\n",
       "    <tr>\n",
       "      <th>fBodyBodyAccJerkMag</th>\n",
       "      <td>13</td>\n",
       "    </tr>\n",
       "    <tr>\n",
       "      <th>fBodyBodyGyroMag</th>\n",
       "      <td>13</td>\n",
       "    </tr>\n",
       "    <tr>\n",
       "      <th>fBodyBodyGyroJerkMag</th>\n",
       "      <td>13</td>\n",
       "    </tr>\n",
       "    <tr>\n",
       "      <th>angle</th>\n",
       "      <td>7</td>\n",
       "    </tr>\n",
       "    <tr>\n",
       "      <th>subject</th>\n",
       "      <td>1</td>\n",
       "    </tr>\n",
       "    <tr>\n",
       "      <th>Activity</th>\n",
       "      <td>1</td>\n",
       "    </tr>\n",
       "  </tbody>\n",
       "</table>\n",
       "</div>"
      ],
      "text/plain": [
       "                      count\n",
       "tBodyAcc                 40\n",
       "tGravityAcc              40\n",
       "tBodyAccJerk             40\n",
       "tBodyGyro                40\n",
       "tBodyGyroJerk            40\n",
       "tBodyAccMag              13\n",
       "tGravityAccMag           13\n",
       "tBodyAccJerkMag          13\n",
       "tBodyGyroMag             13\n",
       "tBodyGyroJerkMag         13\n",
       "fBodyAcc                 79\n",
       "fBodyAccJerk             79\n",
       "fBodyGyro                79\n",
       "fBodyAccMag              13\n",
       "fBodyBodyAccJerkMag      13\n",
       "fBodyBodyGyroMag         13\n",
       "fBodyBodyGyroJerkMag     13\n",
       "angle                     7\n",
       "subject                   1\n",
       "Activity                  1"
      ]
     },
     "execution_count": 6,
     "metadata": {},
     "output_type": "execute_result"
    }
   ],
   "source": [
    "group_data_columns(train)"
   ]
  },
  {
   "cell_type": "markdown",
   "metadata": {},
   "source": [
    "From the table above, we can distinguish between two main attributes, starting with letter \"t\" and \"f\", which means sensor data obtained in time and frequency domain, respectively. Both time and frequency domains have subcategories such as acceleration and gravity."
   ]
  },
  {
   "cell_type": "markdown",
   "metadata": {},
   "source": [
    "## Explore missing values\n",
    "\n",
    "Let's explore if the data set contains missing values (gaps). If there are no data you cannot make predictions. The goal is to fill the gaps."
   ]
  },
  {
   "cell_type": "code",
   "execution_count": 7,
   "metadata": {},
   "outputs": [],
   "source": [
    "# function that detects and plot missing values\n",
    "def find_missing_values(data_set, columns, plot_figure=False):\n",
    "    \"\"\"\n",
    "    Find a number of rows where certain column values are missing.\n",
    "    :: param_data_set = target dataframe\n",
    "    :: param_columns = list of columns\n",
    "    :: param_plot_figure = plot missing values plot\n",
    "    \"\"\"\n",
    "    # TODO: replace missing_values with data frame. \n",
    "    #       Use this dataframe to plot missingno figure.\n",
    "    \n",
    "    missing_values = {}\n",
    "    data_length = len(data_set)\n",
    "    for column in columns:\n",
    "        total_column_values = data_set[column].value_counts().sum()\n",
    "        missing_value = data_length - total_column_values\n",
    "        if missing_value > 0: # store only columns with missing values\n",
    "            missing_values[column] = missing_value\n",
    "    if len(missing_values) > 0:\n",
    "        print(\"Number of missing or NaN values for each column: {0}\".format(pd.DataFrame.from_dict(missing_values)))\n",
    "    else:\n",
    "        print(\"There are no missing values in data set.\")    \n",
    "    if (plot_figure and len(missing_values)>0):\n",
    "        # Convert missing_values dict to DataFrame and plot\n",
    "        missingno.matrix(pd.DataFrame.from_dict(missing_values), figsize=(20,5))\n",
    "    return missing_values"
   ]
  },
  {
   "cell_type": "code",
   "execution_count": 8,
   "metadata": {},
   "outputs": [
    {
     "name": "stdout",
     "output_type": "stream",
     "text": [
      "There are no missing values in data set.\n"
     ]
    }
   ],
   "source": [
    "train_missing_values = find_missing_values(train, columns=train.columns, plot_figure=True)  "
   ]
  },
  {
   "cell_type": "code",
   "execution_count": 9,
   "metadata": {},
   "outputs": [
    {
     "name": "stdout",
     "output_type": "stream",
     "text": [
      "There are no missing values in data set.\n"
     ]
    }
   ],
   "source": [
    "test_missing_values = find_missing_values(test, columns=test.columns, plot_figure=False)"
   ]
  },
  {
   "cell_type": "markdown",
   "metadata": {},
   "source": [
    "Exploration of missing values in train and test data set showed that there are no missing values or gaps."
   ]
  },
  {
   "cell_type": "markdown",
   "metadata": {},
   "source": [
    "## What data types are in the dataframe?\n",
    "\n",
    "Features with a data type of object can be considered categorical features. Features with a data type of float or int could be considered as numerical.\n",
    "\n",
    "Ideally, we want all features to be encoded into numerical value of some kind."
   ]
  },
  {
   "cell_type": "code",
   "execution_count": 10,
   "metadata": {},
   "outputs": [],
   "source": [
    "def disp_dataset_dtype(data_set, data_set_name=None, verbose=False):\n",
    "    \"\"\"\n",
    "    :: param_data_set_name = name of the data set\n",
    "    :: param_data_set = input data set\n",
    "    :: param_verbose = display data type for ach column\n",
    "    \"\"\"  \n",
    "    print(\"Data types in {0} data frame:\\n\".format(data_set_name))\n",
    "    return data_set.info(verbose=verbose)"
   ]
  },
  {
   "cell_type": "code",
   "execution_count": 11,
   "metadata": {},
   "outputs": [
    {
     "name": "stdout",
     "output_type": "stream",
     "text": [
      "Data types in train.csv data frame:\n",
      "\n",
      "<class 'pandas.core.frame.DataFrame'>\n",
      "RangeIndex: 7352 entries, 0 to 7351\n",
      "Columns: 563 entries, tBodyAcc-mean()-X to Activity\n",
      "dtypes: float64(561), int64(1), object(1)\n",
      "memory usage: 31.6+ MB\n"
     ]
    }
   ],
   "source": [
    "disp_dataset_dtype(data_set=train, data_set_name=\"train.csv\")"
   ]
  },
  {
   "cell_type": "code",
   "execution_count": 12,
   "metadata": {},
   "outputs": [
    {
     "name": "stdout",
     "output_type": "stream",
     "text": [
      "Data types in test.csv data frame:\n",
      "\n",
      "<class 'pandas.core.frame.DataFrame'>\n",
      "RangeIndex: 2947 entries, 0 to 2946\n",
      "Columns: 563 entries, tBodyAcc-mean()-X to Activity\n",
      "dtypes: float64(561), int64(1), object(1)\n",
      "memory usage: 12.7+ MB\n"
     ]
    }
   ],
   "source": [
    "disp_dataset_dtype(data_set=test, data_set_name=\"test.csv\")"
   ]
  },
  {
   "cell_type": "markdown",
   "metadata": {},
   "source": [
    "Both test and train data set have only  numerical data of type float and int. Only the label \"Activity\", feature we want to predict, is type of object (string) and it is a cetegorical variable. For a better data manipulation let's create a new numerical label **\"Activity_num\"**."
   ]
  },
  {
   "cell_type": "code",
   "execution_count": 13,
   "metadata": {},
   "outputs": [
    {
     "data": {
      "text/plain": [
       "LAYING                1407\n",
       "STANDING              1374\n",
       "SITTING               1286\n",
       "WALKING               1226\n",
       "WALKING_UPSTAIRS      1073\n",
       "WALKING_DOWNSTAIRS     986\n",
       "Name: Activity, dtype: int64"
      ]
     },
     "execution_count": 13,
     "metadata": {},
     "output_type": "execute_result"
    }
   ],
   "source": [
    "df_train[\"Activity\"].value_counts()"
   ]
  },
  {
   "cell_type": "code",
   "execution_count": 14,
   "metadata": {},
   "outputs": [
    {
     "data": {
      "text/plain": [
       "0    1407\n",
       "2    1374\n",
       "1    1286\n",
       "3    1226\n",
       "5    1073\n",
       "4     986\n",
       "Name: Activity_num, dtype: int64"
      ]
     },
     "execution_count": 14,
     "metadata": {},
     "output_type": "execute_result"
    }
   ],
   "source": [
    "df_train[\"Activity_num\"] = df_train[\"Activity\"].astype(\"category\").cat.codes\n",
    "df_train[\"Activity_num\"].value_counts()"
   ]
  },
  {
   "cell_type": "markdown",
   "metadata": {},
   "source": [
    "**Label: Activity_num**\n",
    "\n",
    "Description: Type of movement\n",
    "Key: 0 = Laying,\n",
    "     1 = Standing,\n",
    "     2 = Sitting,\n",
    "     3 = Walking,\n",
    "     4 = Walking_upstairs,\n",
    "     5 = Walking_downstairs,"
   ]
  },
  {
   "cell_type": "markdown",
   "metadata": {},
   "source": [
    "## Activity label exploration"
   ]
  },
  {
   "cell_type": "markdown",
   "metadata": {},
   "source": [
    "Let's look at the distribution of \"Activity\" label in our data set."
   ]
  },
  {
   "cell_type": "code",
   "execution_count": 15,
   "metadata": {},
   "outputs": [
    {
     "name": "stdout",
     "output_type": "stream",
     "text": [
      "Saveing figure  Activity_distribution\n"
     ]
    },
    {
     "data": {
      "image/png": "[encoded data removed]",
      "text/plain": [
       "<Figure size 432x288 with 1 Axes>"
      ]
     },
     "metadata": {
      "needs_background": "light"
     },
     "output_type": "display_data"
    }
   ],
   "source": [
    "sns.distplot(df_train[\"Activity_num\"])\n",
    "save_fig(\"Activity_distribution\")"
   ]
  },
  {
   "cell_type": "code",
   "execution_count": 16,
   "metadata": {},
   "outputs": [
    {
     "name": "stdout",
     "output_type": "stream",
     "text": [
      "Saveing figure  activity_dsitribution\n"
     ]
    },
    {
     "data": {
      "image/png": "[encoded data removed]",
      "text/plain": [
       "<Figure size 1440x720 with 1 Axes>"
      ]
     },
     "metadata": {
      "needs_background": "light"
     },
     "output_type": "display_data"
    }
   ],
   "source": [
    "# Lets view the distribution of Sex feature\n",
    "plt.figure(figsize=(20,10))\n",
    "sns.countplot(x=\"Activity\", data=df_train).set_title(\"Activity distribution\")\n",
    "save_fig(\"activity_dsitribution\")"
   ]
  },
  {
   "cell_type": "markdown",
   "metadata": {},
   "source": [
    "## Machine learning model\n",
    "\n",
    "Prepare training data for machine learning algorithm.\n",
    "There is no need to use LabelEncoder since we encoded target labels with numerical values in section above."
   ]
  },
  {
   "cell_type": "code",
   "execution_count": 17,
   "metadata": {},
   "outputs": [],
   "source": [
    "# Select the dataframe we want to use first for predictions\n",
    "selected_df_train = df_train\n",
    "X_train = selected_df_train.drop([\"Activity\",\"Activity_num\"],axis=1) # training data\n",
    "y_train = selected_df_train[\"Activity_num\"] # lables"
   ]
  },
  {
   "cell_type": "code",
   "execution_count": 30,
   "metadata": {},
   "outputs": [],
   "source": [
    "# define function that runs the requested machine learning algorithm \n",
    "# and returs the accuracy metrics\n",
    "\n",
    "def fit_ml_algorithm(ml_algo, X_train, y_train, cv):\n",
    "    \n",
    "    # Fit the data\n",
    "    model = ml_algo.fit(X_train, y_train)\n",
    "    accuracy = round(model.score(X_train, y_train) * 100, 2)\n",
    "    \n",
    "    # Cross-validation\n",
    "    train_predictions = model_selection.cross_val_predict(ml_algo,\n",
    "                                                           X_train,\n",
    "                                                           y_train,\n",
    "                                                           cv=cv,\n",
    "                                                           n_jobs=-1)\n",
    "    # Cross-validation accuracy metrics\n",
    "    accuracy_cv = round(metrics.accuracy_score(y_train, train_predictions) * 100, 2)\n",
    "    \n",
    "    return train_predictions, accuracy, accuracy_cv"
   ]
  },
  {
   "cell_type": "markdown",
   "metadata": {},
   "source": [
    "### Logistic Regression"
   ]
  },
  {
   "cell_type": "code",
   "execution_count": 40,
   "metadata": {},
   "outputs": [
    {
     "name": "stdout",
     "output_type": "stream",
     "text": [
      "Accuracy: 98.83.\n",
      "Accuracy CV 10-Fold: 93.72.\n",
      "Running time: 0:00:15.136493.\n"
     ]
    }
   ],
   "source": [
    "# Logistic regression\n",
    "start_time = time.time()\n",
    "train_predictions_log, accuracy_log, accuracy_cv_log = fit_ml_algorithm(LogisticRegression(),\n",
    "                                                                       X_train,\n",
    "                                                                       y_train,\n",
    "                                                                        cv=10)\n",
    "log_time = (time.time() - start_time)\n",
    "print(\"Accuracy: %s.\" % accuracy_log)\n",
    "print(\"Accuracy CV 10-Fold: %s.\" % accuracy_cv_log)\n",
    "print(\"Running time: %s.\" % datetime.timedelta(seconds=log_time))"
   ]
  },
  {
   "cell_type": "markdown",
   "metadata": {},
   "source": [
    "### K-Nearest Neighbours"
   ]
  },
  {
   "cell_type": "code",
   "execution_count": 41,
   "metadata": {},
   "outputs": [
    {
     "name": "stdout",
     "output_type": "stream",
     "text": [
      "Accuracy: 98.9.\n",
      "Accuracy CV 10-Fold: 82.7.\n",
      "Running time: 0:00:23.496248.\n"
     ]
    }
   ],
   "source": [
    "# KNN\n",
    "start_time = time.time()\n",
    "train_predictions_knn, accuracy_knn, accuracy_cv_knn = fit_ml_algorithm(KNeighborsClassifier(),\n",
    "                                                                       X_train,\n",
    "                                                                       y_train,\n",
    "                                                                        cv=10)\n",
    "knn_time = (time.time() - start_time)\n",
    "print(\"Accuracy: %s.\" % accuracy_knn)\n",
    "print(\"Accuracy CV 10-Fold: %s.\" % accuracy_cv_knn)\n",
    "print(\"Running time: %s.\" % datetime.timedelta(seconds=knn_time))"
   ]
  },
  {
   "cell_type": "markdown",
   "metadata": {},
   "source": [
    "### Gaussian Naive Bayes Classifier"
   ]
  },
  {
   "cell_type": "code",
   "execution_count": 42,
   "metadata": {},
   "outputs": [
    {
     "name": "stdout",
     "output_type": "stream",
     "text": [
      "Accuracy: 75.16.\n",
      "Accuracy CV 10-Fold: 70.29.\n",
      "Running time: 0:00:02.229536.\n"
     ]
    }
   ],
   "source": [
    "# Gaussian Naive Bayes\n",
    "start_time = time.time()\n",
    "train_predictions_gauss, accuracy_gauss, accuracy_cv_gauss = fit_ml_algorithm(GaussianNB(),\n",
    "                                                                       X_train,\n",
    "                                                                       y_train,\n",
    "                                                                        cv=10)\n",
    "gauss_time = (time.time() - start_time)\n",
    "print(\"Accuracy: %s.\" % accuracy_gauss)\n",
    "print(\"Accuracy CV 10-Fold: %s.\" % accuracy_cv_gauss)\n",
    "print(\"Running time: %s.\" % datetime.timedelta(seconds=gauss_time))"
   ]
  },
  {
   "cell_type": "markdown",
   "metadata": {},
   "source": [
    "### Linear Support Vector Machine (SVC)"
   ]
  },
  {
   "cell_type": "code",
   "execution_count": 43,
   "metadata": {},
   "outputs": [
    {
     "name": "stdout",
     "output_type": "stream",
     "text": [
      "Accuracy: 99.44.\n",
      "Accuracy CV 10-Fold: 94.93.\n",
      "Running time: 0:00:43.189392.\n"
     ]
    }
   ],
   "source": [
    "# Linear SVC\n",
    "start_time = time.time()\n",
    "train_predictions_linear_svc, accuracy_linear_svc, accuracy_cv_linear_svc = fit_ml_algorithm(LinearSVC(),\n",
    "                                                                       X_train,\n",
    "                                                                       y_train,\n",
    "                                                                        cv=10)\n",
    "linear_svc_time = (time.time() - start_time)\n",
    "print(\"Accuracy: %s.\" % accuracy_linear_svc)\n",
    "print(\"Accuracy CV 10-Fold: %s.\" % accuracy_cv_linear_svc)\n",
    "print(\"Running time: %s.\" % datetime.timedelta(seconds=linear_svc_time))"
   ]
  },
  {
   "cell_type": "markdown",
   "metadata": {},
   "source": [
    "### Stochastic Gradient Classifier"
   ]
  },
  {
   "cell_type": "code",
   "execution_count": 44,
   "metadata": {},
   "outputs": [
    {
     "name": "stdout",
     "output_type": "stream",
     "text": [
      "Accuracy: 98.91.\n",
      "Accuracy CV 10-Fold: 94.18.\n",
      "Running time: 0:00:10.697813.\n"
     ]
    }
   ],
   "source": [
    "start_time = time.time()\n",
    "train_predictions_sgd, accuracy_sgd, accuracy_cv_sgd = fit_ml_algorithm(SGDClassifier(),\n",
    "                                                                       X_train,\n",
    "                                                                       y_train,\n",
    "                                                                        cv=10)\n",
    "sgd_time = (time.time() - start_time)\n",
    "print(\"Accuracy: %s.\" % accuracy_sgd)\n",
    "print(\"Accuracy CV 10-Fold: %s.\" % accuracy_cv_sgd)\n",
    "print(\"Running time: %s.\" % datetime.timedelta(seconds=sgd_time))"
   ]
  },
  {
   "cell_type": "markdown",
   "metadata": {},
   "source": [
    "### Decision Tree Classifier"
   ]
  },
  {
   "cell_type": "code",
   "execution_count": 45,
   "metadata": {},
   "outputs": [
    {
     "name": "stdout",
     "output_type": "stream",
     "text": [
      "Accuracy: 100.0.\n",
      "Accuracy CV 10-Fold: 85.64.\n",
      "Running time: 0:00:23.786364.\n"
     ]
    }
   ],
   "source": [
    "# Decision Tree classifier\n",
    "start_time = time.time()\n",
    "train_predictions_dt, accuracy_dt, accuracy_cv_dt = fit_ml_algorithm(DecisionTreeClassifier(),\n",
    "                                                                       X_train,\n",
    "                                                                       y_train,\n",
    "                                                                        cv=10)\n",
    "dt_time = (time.time() - start_time)\n",
    "print(\"Accuracy: %s.\" % accuracy_dt)\n",
    "print(\"Accuracy CV 10-Fold: %s.\" % accuracy_cv_dt)\n",
    "print(\"Running time: %s.\" % datetime.timedelta(seconds=dt_time))"
   ]
  },
  {
   "cell_type": "markdown",
   "metadata": {},
   "source": [
    "## Model Results"
   ]
  },
  {
   "cell_type": "markdown",
   "metadata": {},
   "source": [
    "Let's take a look at the regular and cross-validation accuracy of the models trained above.\n",
    "We care more about cross-validation accuracy since the accuracy from .fit() method can randomly score higher than usual."
   ]
  },
  {
   "cell_type": "markdown",
   "metadata": {},
   "source": [
    "### Regular Accuracy vs Cross-Validation Accuracy"
   ]
  },
  {
   "cell_type": "code",
   "execution_count": 49,
   "metadata": {},
   "outputs": [
    {
     "name": "stdout",
     "output_type": "stream",
     "text": [
      "--- Machine learning models and their regular and cross-validation scores ----\n"
     ]
    },
    {
     "data": {
      "text/html": [
       "<div>\n",
       "<style scoped>\n",
       "    .dataframe tbody tr th:only-of-type {\n",
       "        vertical-align: middle;\n",
       "    }\n",
       "\n",
       "    .dataframe tbody tr th {\n",
       "        vertical-align: top;\n",
       "    }\n",
       "\n",
       "    .dataframe thead th {\n",
       "        text-align: right;\n",
       "    }\n",
       "</style>\n",
       "<table border=\"1\" class=\"dataframe\">\n",
       "  <thead>\n",
       "    <tr style=\"text-align: right;\">\n",
       "      <th></th>\n",
       "      <th>ML Model</th>\n",
       "      <th>Regular Score</th>\n",
       "      <th>Cross-Validation Score</th>\n",
       "    </tr>\n",
       "  </thead>\n",
       "  <tbody>\n",
       "    <tr>\n",
       "      <th>3</th>\n",
       "      <td>Linear SVC</td>\n",
       "      <td>99.44</td>\n",
       "      <td>94.93</td>\n",
       "    </tr>\n",
       "    <tr>\n",
       "      <th>4</th>\n",
       "      <td>Stochastic Gradient</td>\n",
       "      <td>98.91</td>\n",
       "      <td>94.18</td>\n",
       "    </tr>\n",
       "    <tr>\n",
       "      <th>0</th>\n",
       "      <td>Logistic Regression</td>\n",
       "      <td>98.83</td>\n",
       "      <td>93.72</td>\n",
       "    </tr>\n",
       "    <tr>\n",
       "      <th>5</th>\n",
       "      <td>Decision Tree</td>\n",
       "      <td>100.00</td>\n",
       "      <td>85.64</td>\n",
       "    </tr>\n",
       "    <tr>\n",
       "      <th>1</th>\n",
       "      <td>KNN</td>\n",
       "      <td>98.90</td>\n",
       "      <td>82.70</td>\n",
       "    </tr>\n",
       "    <tr>\n",
       "      <th>2</th>\n",
       "      <td>Naive Bayes</td>\n",
       "      <td>75.16</td>\n",
       "      <td>70.29</td>\n",
       "    </tr>\n",
       "  </tbody>\n",
       "</table>\n",
       "</div>"
      ],
      "text/plain": [
       "              ML Model  Regular Score  Cross-Validation Score\n",
       "3           Linear SVC          99.44                   94.93\n",
       "4  Stochastic Gradient          98.91                   94.18\n",
       "0  Logistic Regression          98.83                   93.72\n",
       "5        Decision Tree         100.00                   85.64\n",
       "1                  KNN          98.90                   82.70\n",
       "2          Naive Bayes          75.16                   70.29"
      ]
     },
     "execution_count": 49,
     "metadata": {},
     "output_type": "execute_result"
    }
   ],
   "source": [
    "ml_models = pd.DataFrame({\n",
    "    \"ML Model\" : [\"Logistic Regression\", \"KNN\", \"Naive Bayes\",\"Linear SVC\",\n",
    "                  \"Stochastic Gradient\",\"Decision Tree\"],\n",
    "    \"Regular Score\" : [accuracy_log,\n",
    "                      accuracy_knn,\n",
    "                      accuracy_gauss,\n",
    "                      accuracy_linear_svc,\n",
    "                      accuracy_sgd,\n",
    "                      accuracy_dt\n",
    "                      ],\n",
    "    \"Cross-Validation Score\" : [accuracy_cv_log,\n",
    "                      accuracy_cv_knn,\n",
    "                      accuracy_cv_gauss,\n",
    "                      accuracy_cv_linear_svc,\n",
    "                      accuracy_cv_sgd,\n",
    "                      accuracy_cv_dt] \n",
    "})\n",
    "print(\"--- Machine learning models and their regular and cross-validation scores ----\")\n",
    "ml_models.sort_values(by=\"Cross-Validation Score\", ascending=False)"
   ]
  }
 ],
 "metadata": {
  "kernelspec": {
   "display_name": "venv",
   "language": "python",
   "name": "venv"
  },
  "language_info": {
   "codemirror_mode": {
    "name": "ipython",
    "version": 3
   },
   "file_extension": ".py",
   "mimetype": "text/x-python",
   "name": "python",
   "nbconvert_exporter": "python",
   "pygments_lexer": "ipython3",
   "version": "3.7.6"
  }
 },
 "nbformat": 4,
 "nbformat_minor": 4
}
